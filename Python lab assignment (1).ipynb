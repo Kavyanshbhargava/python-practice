{
 "cells": [
  {
   "cell_type": "code",
   "execution_count": 11,
   "id": "d3143b4a",
   "metadata": {},
   "outputs": [
    {
     "name": "stdout",
     "output_type": "stream",
     "text": [
      "Installing Python is generally easy, and nowadays many Linux and UNIX distributions include a recent Python. Even some Windows computers (notably those from HP) now come with Python already installed. If you do need to install Python and aren't confident about the task you can find a few notes on the BeginnersGuide/Download wiki page, but installation is unremarkable on most platforms.\n",
      "\n",
      "\n"
     ]
    }
   ],
   "source": [
    "#Write a program in python to read and write in a file \n",
    "\n",
    "#open the file \n",
    "f=open(\"kavyansh.txt\") \n",
    "#read the file \n",
    "text=f.read() \n",
    "#print the text \n",
    "print(text)"
   ]
  },
  {
   "cell_type": "code",
   "execution_count": 13,
   "id": "63ec1034",
   "metadata": {},
   "outputs": [],
   "source": [
    "# write in a file\n",
    "# open the file in write mode if no file exits will make new file \n",
    "f=open(\"kavyansh.txt\",\"w\") \n",
    "# Write some text in a file \n",
    "f.write(\"hi this is kavyansh\") \n",
    "#close the file \n",
    "f.close() "
   ]
  },
  {
   "cell_type": "code",
   "execution_count": 1,
   "id": "96f624b0",
   "metadata": {},
   "outputs": [
    {
     "name": "stdout",
     "output_type": "stream",
     "text": [
      "sum of 4 and 20 is <built-in function sum>\n"
     ]
    }
   ],
   "source": [
    "#write  a program in python to add two numbers \n",
    "\n",
    "#input one \n",
    "num1=4\n",
    "#input second \n",
    "num2=20\n",
    "\n",
    "#adding two nos\n",
    "summ = num1 + num2\n",
    "\n",
    "print(\"sum of {0} and {1} is {2}\" .format(num1,num2, sum))\n",
    "\n"
   ]
  },
  {
   "cell_type": "code",
   "execution_count": 25,
   "id": "df45e4d2",
   "metadata": {},
   "outputs": [
    {
     "name": "stdout",
     "output_type": "stream",
     "text": [
      "Positive\n",
      "Negative\n"
     ]
    }
   ],
   "source": [
    "#Write a python program to check whether the number is positive or negative\n",
    "\n",
    "def check(n):\n",
    "     \n",
    "    # if the number is positive\n",
    "    if n > 0:\n",
    "        print(\"Positive\")\n",
    "         \n",
    "    # if the number is negative\n",
    "    elif n < 0:\n",
    "        print(\"Negative\")\n",
    "\n",
    "check(5)\n",
    "check(-5)"
   ]
  },
  {
   "cell_type": "code",
   "execution_count": 31,
   "id": "e7912bec",
   "metadata": {},
   "outputs": [
    {
     "name": "stdout",
     "output_type": "stream",
     "text": [
      "Enter first number: 2\n",
      "Enter second number: 6\n",
      "And Enter third number: 13\n",
      "The largest among these three numbers is 13\n"
     ]
    }
   ],
   "source": [
    "#Write a python program to find greatest among 3 numbers? \n",
    "\n",
    "# taking first number\n",
    "num1 = int(input(\"Enter first number: \"))           \n",
    "# taking second number\n",
    "num2 = int(input(\"Enter second number: \"))          \n",
    "# taking third number\n",
    "num3 = int(input(\"And Enter third number: \"))  \n",
    " \n",
    "if (num1 > num2) and (num1 > num3):\n",
    "   max = num1\n",
    "elif (num2 > num1) and (num2 > num3):\n",
    "   max = num2\n",
    "else:\n",
    "   max = num3\n",
    "# printing the max\n",
    "print(\"The largest among these three numbers is\",max)"
   ]
  },
  {
   "cell_type": "code",
   "execution_count": 32,
   "id": "3631b26b",
   "metadata": {},
   "outputs": [
    {
     "name": "stdout",
     "output_type": "stream",
     "text": [
      "Enter weekday day number (1-7) : 5\n",
      "\n",
      "Friday\n"
     ]
    }
   ],
   "source": [
    "#Write a python program to print the name of weeks corresponding to number? \n",
    "\n",
    "weekday = int(input(\"Enter weekday day number (1-7) : \"))\n",
    "\n",
    "if weekday == 1 :\n",
    "    print(\"\\nMonday\");\n",
    "\n",
    "elif weekday == 2 :\n",
    "    print(\"\\nTuesday\")\n",
    "\n",
    "elif(weekday == 3) :\n",
    "    print(\"\\nWednesday\")\n",
    "\n",
    "elif(weekday == 4) :\n",
    "    print(\"\\nThursday\")\n",
    "\n",
    "elif(weekday == 5) :\n",
    "    print(\"\\nFriday\")\n",
    "\n",
    "elif(weekday == 6) :\n",
    "    print(\"\\nSaturday\")\n",
    "\n",
    "elif (weekday == 7) :\n",
    "    print(\"\\nSunday\")\n",
    "\n",
    "else :\n",
    "    print(\"\\nPlease enter weekday number between 1-7.\")\n"
   ]
  },
  {
   "cell_type": "code",
   "execution_count": 38,
   "id": "4211c861",
   "metadata": {},
   "outputs": [
    {
     "name": "stdout",
     "output_type": "stream",
     "text": [
      "Enter a number: 5\n",
      "The factorial of 5 is 120\n"
     ]
    }
   ],
   "source": [
    "#Write a python program to find the factorial of a number. \n",
    "\n",
    "# To take input from the user\n",
    "num = int(input(\"Enter a number: \"))\n",
    "factorial = 1\n",
    "\n",
    "# check if the number is negative, positive or zero\n",
    "if num < 0:\n",
    "   print(\"Sorry, factorial does not exist for negative numbers\")\n",
    "elif num == 0:\n",
    "   print(\"The factorial of 0 is 1\")\n",
    "else:\n",
    "   for i in range(1,num + 1):\n",
    "       factorial = factorial*i\n",
    "   print(\"The factorial of\",num,\"is\",factorial)"
   ]
  },
  {
   "cell_type": "code",
   "execution_count": 40,
   "id": "dbc5f4ee",
   "metadata": {},
   "outputs": [
    {
     "name": "stdout",
     "output_type": "stream",
     "text": [
      "The list1 and list2 are not equal\n"
     ]
    }
   ],
   "source": [
    "#Write a python program to compare the two list? \n",
    "\n",
    "list1 = [11, 12, 13, 14, 15]  \n",
    "list2 = [12, 13, 11, 16, 14]  \n",
    "  \n",
    "a = set(list1)  \n",
    "b = set(list2)  \n",
    "  \n",
    "if a == b:  \n",
    "    print(\"The list1 and list2 are equal\")  \n",
    "else:  \n",
    "    print(\"The list1 and list2 are not equal\")  "
   ]
  },
  {
   "cell_type": "code",
   "execution_count": 42,
   "id": "0111db43",
   "metadata": {},
   "outputs": [
    {
     "name": "stdout",
     "output_type": "stream",
     "text": [
      "15\n"
     ]
    }
   ],
   "source": [
    "#Write a python program to explore the lambda function? \n",
    "\n",
    "x = lambda a : a + 10\n",
    "print(x(5))"
   ]
  },
  {
   "cell_type": "code",
   "execution_count": 46,
   "id": "453c940f",
   "metadata": {},
   "outputs": [
    {
     "name": "stdout",
     "output_type": "stream",
     "text": [
      "The filtered letters are:\n",
      "e\n",
      "e\n"
     ]
    }
   ],
   "source": [
    "#Write a python program to explore the filter function in python?\n",
    "\n",
    "\n",
    "# function that filters vowels\n",
    "def fun(variable):\n",
    "    letters = ['a', 'e', 'i', 'o', 'u']\n",
    "    if (variable in letters):\n",
    "        return True\n",
    "    else:\n",
    "        return False\n",
    " \n",
    " \n",
    "# sequence\n",
    "sequence = ['g', 'e', 'e', 'j', 'k', 's', 'p', 'r']\n",
    " \n",
    "# using filter function\n",
    "filtered = filter(fun, sequence)\n",
    " \n",
    "print('The filtered letters are:')\n",
    "for s in filtered:\n",
    "    print(s)"
   ]
  },
  {
   "cell_type": "code",
   "execution_count": 48,
   "id": "ec90656a",
   "metadata": {},
   "outputs": [
    {
     "name": "stdout",
     "output_type": "stream",
     "text": [
      "double element list is:  [20, 40, 60, 80, 100]\n"
     ]
    }
   ],
   "source": [
    "#Write a python program to explore the map function in python? \n",
    "\n",
    "#Define the function \n",
    "def double(ele):     \n",
    "    return 2*ele \n",
    " \n",
    "#Define the list \n",
    "lst=[10,20,30,40,50] \n",
    " \n",
    "#printing the result \n",
    "print(\"double element list is: \",list(map(double,lst))) \n"
   ]
  },
  {
   "cell_type": "code",
   "execution_count": 51,
   "id": "daad7601",
   "metadata": {},
   "outputs": [
    {
     "name": "stdout",
     "output_type": "stream",
     "text": [
      "the sum of list element is: 15\n"
     ]
    }
   ],
   "source": [
    "#Write a python program to explore reduce function? \n",
    "\n",
    "#importing reduce function \n",
    "from functools import reduce \n",
    " #define the function \n",
    "def add_ele(a,b): \n",
    "    return a+b \n",
    " \n",
    "#define the list \n",
    "lst=[1,2,3,4,5] \n",
    " \n",
    "#printing the result \n",
    "print(\"the sum of list element is:\",reduce(add_ele,lst)) \n"
   ]
  },
  {
   "cell_type": "code",
   "execution_count": 58,
   "id": "53a73c84",
   "metadata": {},
   "outputs": [
    {
     "name": "stdout",
     "output_type": "stream",
     "text": [
      "1\n",
      "2\n",
      "6\n",
      "24\n",
      "120\n"
     ]
    }
   ],
   "source": [
    "# using the itertools.accumula#Write a python program to explore accumulate function? \n",
    "\n",
    "# import the itertool module \n",
    "# to work with it\n",
    "import itertools\n",
    "  \n",
    "# import operator to work \n",
    "# with operator\n",
    "import operator\n",
    "  \n",
    "# creating a list lst\n",
    "lst = [1, 2, 3, 4, 5]te() \n",
    "result = itertools.accumulate(GFG, \n",
    "                              operator.mul)\n",
    "  \n",
    "# printing each item from list\n",
    "for each in result:\n",
    "    print(each)"
   ]
  },
  {
   "cell_type": "code",
   "execution_count": 64,
   "id": "4ec529fe",
   "metadata": {},
   "outputs": [
    {
     "name": "stdout",
     "output_type": "stream",
     "text": [
      "Yeah ! Your answer is : 2\n"
     ]
    }
   ],
   "source": [
    "#Write a python program to explore try-except statement? \n",
    "\n",
    "# working of try()\n",
    "def divide(x, y):\n",
    "    try:\n",
    "        # Floor Division : Gives only Fractional Part as Answer\n",
    "        result = x // y\n",
    "        print(\"Yeah ! Your answer is :\", result)\n",
    "    except ZeroDivisionError:\n",
    "        print(\"Sorry ! You are dividing by zero \")\n",
    " \n",
    "# Look at parameters and note the working of Program\n",
    "divide(6, 3)"
   ]
  },
  {
   "cell_type": "code",
   "execution_count": 68,
   "id": "5d5fa137",
   "metadata": {},
   "outputs": [
    {
     "name": "stdout",
     "output_type": "stream",
     "text": [
      "   November 2017\n",
      "Mo Tu We Th Fr Sa Su\n",
      "       1  2  3  4  5\n",
      " 6  7  8  9 10 11 12\n",
      "13 14 15 16 17 18 19\n",
      "20 21 22 23 24 25 26\n",
      "27 28 29 30\n",
      "\n"
     ]
    }
   ],
   "source": [
    "#write a program to print a month  of particular year using calendar module\n",
    "\n",
    "import calendar\n",
    "   \n",
    "yy = 2017\n",
    "mm = 11\n",
    "   \n",
    "# display the calendar\n",
    "print(calendar.month(yy, mm))"
   ]
  },
  {
   "cell_type": "code",
   "execution_count": 1,
   "id": "7d50d965",
   "metadata": {},
   "outputs": [
    {
     "name": "stdout",
     "output_type": "stream",
     "text": [
      "[[1 2 3]\n",
      " [4 5 6]\n",
      " [7 8 9]]\n",
      "int32\n",
      "<class 'numpy.ndarray'>\n",
      "(3, 3)\n",
      "[['kavyansh' 'sanu']\n",
      " ['bhargava' 'hg']]\n",
      "<U8\n",
      "<class 'numpy.str_'>\n"
     ]
    }
   ],
   "source": [
    "#Use type, shape and dtype in python? \n",
    "\n",
    "import numpy as np \n",
    "arr=np.array([[1,2,3],[4,5,6],[7,8,9]]) \n",
    "print(arr) \n",
    "print(arr.dtype) \n",
    "print(type(arr)) \n",
    "print(arr.shape) \n",
    " \n",
    "arr1=np.array([[\"kavyansh\",\"sanu\"],[\"bhargava\",\"hg\"]]) \n",
    "print(arr1) \n",
    "print(arr1.dtype) \n",
    "print(type(arr1[0][0])) \n"
   ]
  },
  {
   "cell_type": "code",
   "execution_count": 70,
   "id": "783e921b",
   "metadata": {},
   "outputs": [
    {
     "name": "stdout",
     "output_type": "stream",
     "text": [
      "2023-04-13 23:54:12.436259\n"
     ]
    }
   ],
   "source": [
    "#Write a python code to add some days to current date  using date function? \n",
    "\n",
    "import datetime \n",
    "from datetime import timedelta \n",
    "print (datetime.datetime.now()+timedelta(days=2)) \n"
   ]
  },
  {
   "cell_type": "code",
   "execution_count": null,
   "id": "964e28a2",
   "metadata": {},
   "outputs": [],
   "source": [
    "#Use math function in python? "
   ]
  }
 ],
 "metadata": {
  "kernelspec": {
   "display_name": "Python 3 (ipykernel)",
   "language": "python",
   "name": "python3"
  },
  "language_info": {
   "codemirror_mode": {
    "name": "ipython",
    "version": 3
   },
   "file_extension": ".py",
   "mimetype": "text/x-python",
   "name": "python",
   "nbconvert_exporter": "python",
   "pygments_lexer": "ipython3",
   "version": "3.9.13"
  }
 },
 "nbformat": 4,
 "nbformat_minor": 5
}
